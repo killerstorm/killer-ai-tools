{
 "cells": [
  {
   "cell_type": "code",
   "execution_count": 10,
   "id": "6af627b8",
   "metadata": {},
   "outputs": [
    {
     "name": "stdout",
     "output_type": "stream",
     "text": [
      "Requirement already satisfied: openai in /home/alex/p/killer-ai-tools/.venv/lib/python3.12/site-packages (1.35.7)\n",
      "Requirement already satisfied: anyio<5,>=3.5.0 in /home/alex/p/killer-ai-tools/.venv/lib/python3.12/site-packages (from openai) (4.4.0)\n",
      "Requirement already satisfied: distro<2,>=1.7.0 in /home/alex/p/killer-ai-tools/.venv/lib/python3.12/site-packages (from openai) (1.9.0)\n",
      "Requirement already satisfied: httpx<1,>=0.23.0 in /home/alex/p/killer-ai-tools/.venv/lib/python3.12/site-packages (from openai) (0.27.0)\n",
      "Requirement already satisfied: pydantic<3,>=1.9.0 in /home/alex/p/killer-ai-tools/.venv/lib/python3.12/site-packages (from openai) (2.7.4)\n",
      "Requirement already satisfied: sniffio in /home/alex/p/killer-ai-tools/.venv/lib/python3.12/site-packages (from openai) (1.3.1)\n",
      "Requirement already satisfied: tqdm>4 in /home/alex/p/killer-ai-tools/.venv/lib/python3.12/site-packages (from openai) (4.66.4)\n",
      "Requirement already satisfied: typing-extensions<5,>=4.7 in /home/alex/p/killer-ai-tools/.venv/lib/python3.12/site-packages (from openai) (4.12.2)\n",
      "Requirement already satisfied: idna>=2.8 in /home/alex/p/killer-ai-tools/.venv/lib/python3.12/site-packages (from anyio<5,>=3.5.0->openai) (3.7)\n",
      "Requirement already satisfied: certifi in /home/alex/p/killer-ai-tools/.venv/lib/python3.12/site-packages (from httpx<1,>=0.23.0->openai) (2024.6.2)\n",
      "Requirement already satisfied: httpcore==1.* in /home/alex/p/killer-ai-tools/.venv/lib/python3.12/site-packages (from httpx<1,>=0.23.0->openai) (1.0.5)\n",
      "Requirement already satisfied: h11<0.15,>=0.13 in /home/alex/p/killer-ai-tools/.venv/lib/python3.12/site-packages (from httpcore==1.*->httpx<1,>=0.23.0->openai) (0.14.0)\n",
      "Requirement already satisfied: annotated-types>=0.4.0 in /home/alex/p/killer-ai-tools/.venv/lib/python3.12/site-packages (from pydantic<3,>=1.9.0->openai) (0.7.0)\n",
      "Requirement already satisfied: pydantic-core==2.18.4 in /home/alex/p/killer-ai-tools/.venv/lib/python3.12/site-packages (from pydantic<3,>=1.9.0->openai) (2.18.4)\n",
      "Note: you may need to restart the kernel to use updated packages.\n"
     ]
    }
   ],
   "source": [
    "%pip install openai"
   ]
  },
  {
   "cell_type": "code",
   "execution_count": 5,
   "id": "dc0148de15b19dd",
   "metadata": {
    "ExecuteTime": {
     "end_time": "2024-06-18T18:12:14.795103180Z",
     "start_time": "2024-06-18T18:12:14.538900370Z"
    },
    "collapsed": false
   },
   "outputs": [],
   "source": [
    "from openai import OpenAI\n",
    "\n",
    "with open('openrouter.key', 'r') as f:\n",
    "    api_key = f.read().replace('\\n', '')\n",
    "\n",
    "client = OpenAI(\n",
    "    ## if you want to use openrouter, uncomment the following line\n",
    "    base_url=\"https://openrouter.ai/api/v1\",\n",
    "    ## if you want to use openai, uncomment the following line\n",
    "    #base_url=\"https://api.openai.com/v1\",\n",
    "    api_key=api_key\n",
    ")\n",
    "\n",
    "# generatlly prompt is instruction \n",
    "# and content is the context\n",
    "# but you also can add instructions to content, \n",
    "# particularly it makes sense if you have a lot of context\n",
    "\n",
    "def get_response_chat(prompt, content):\n",
    "    response = client.chat.completions.create(\n",
    "        model=\"anthropic/claude-3.5-sonnet\", # this is the best model, 200k context\n",
    "        # List of models: https://openrouter.ai/docs/models\n",
    "        # Some highlights:\n",
    "        # google/gemini-flash-1.5 - fast, cheap, 2.8M token context\n",
    "        # google/gemini-pro-1.5 - like flash but smarter\n",
    "        # openai/gpt-4-turbo - best understanding of formatting, instruction following, but is a bit lazy\n",
    "        # openai/gpt-4o - like 4-turbo but faster and more eager, but less exact\n",
    "        # \n",
    "        messages=[\n",
    "            {\"role\": \"system\", \"content\": prompt},\n",
    "            {\"role\": \"user\", \"content\": content}\n",
    "        ]\n",
    "    )\n",
    "    return response.choices[0].message.content\n"
   ]
  },
  {
   "cell_type": "code",
   "execution_count": 7,
   "id": "eee6daf6e9f74e0b",
   "metadata": {
    "ExecuteTime": {
     "end_time": "2024-06-18T18:12:16.224376347Z",
     "start_time": "2024-06-18T18:12:16.208262628Z"
    },
    "collapsed": false
   },
   "outputs": [],
   "source": [
    "import os\n",
    "\n",
    "# Helper functions which read file(s) into strings\n",
    "\n",
    "def read_file(name):\n",
    "    with open(name, 'r') as f:\n",
    "        return f.read()\n",
    "\n",
    "def read_files(directory, extensions):\n",
    "    res = \"\"\n",
    "    for root, dirs, files in os.walk(directory):\n",
    "        for file in files:\n",
    "            if any(file.endswith(ext) for ext in extensions):\n",
    "                file_path = os.path.join(root, file)\n",
    "                res += \"//// BEGIN FILE \" + file + \"\\n\"\n",
    "                with open(file_path, 'r') as infile:\n",
    "                    res += infile.read()\n",
    "                res += \"//// END FILE \" + file + \"\\n\"\n",
    "    return res"
   ]
  },
  {
   "cell_type": "code",
   "execution_count": 9,
   "id": "a00e1258",
   "metadata": {},
   "outputs": [
    {
     "name": "stdout",
     "output_type": "stream",
     "text": [
      "Let's break down Chromia and Rell, understanding they are completely separate entities in the tech world:\n",
      "\n",
      "**Chromia**\n",
      "\n",
      "* **Focus:** Blockchain technology and gaming.\n",
      "* **What it is:**  Chromia is a blockchain platform specifically designed to support and scale blockchain games and decentralized applications (dApps). It aims to solve the limitations of traditional blockchains like Ethereum when it comes to handling complex game logic and large numbers of users.\n",
      "* **Key Features:**\n",
      "    * **Relational Blockchain:**  Uses a relational database model, making it easier for developers to build and scale dApps, especially those with complex data structures like games.\n",
      "    * **Scalability:** Designed for high throughput and low latency transactions, important for a smooth gaming experience.\n",
      "    * **Developer-Friendly:** Offers tools and frameworks familiar to traditional game developers. \n",
      "\n",
      "**Rell**\n",
      "\n",
      "* **Focus:** Data manipulation and analysis.\n",
      "* **What it is:** Rell is a relatively new programming language developed by Google. It's specifically designed for working with structured data, particularly within the context of Google Cloud Platform. \n",
      "* **Key Features:**\n",
      "    * **Data-Centric:** Built for querying, transforming, and managing large datasets efficiently.\n",
      "    * **Integration with Google Cloud:** Designed to work seamlessly with other Google Cloud services like BigQuery and Spanner.\n",
      "    * **Performance:** Aims to provide faster data processing capabilities.\n",
      "\n",
      "**Important Note:** You might be thinking of these terms within the context of a specific game or application. If that's the case, please provide more context so I can give you a more accurate answer. \n",
      "\n",
      "Let me know if you'd like to dive deeper into specific aspects of either Chromia or Rell! \n",
      "\n"
     ]
    }
   ],
   "source": [
    "print(get_response_chat(\"You're an AI assistant\", \"Tell me what you know about Chromia and Rell\"))"
   ]
  },
  {
   "cell_type": "code",
   "execution_count": 8,
   "id": "f24a82a2",
   "metadata": {},
   "outputs": [
    {
     "name": "stdout",
     "output_type": "stream",
     "text": [
      "This file provides a concise guide on how to locally run a Jupyter notebook, specifically focusing on interacting with large language models like those from OpenAI and openrouter.ai. \n",
      "\n",
      "Here's a breakdown:\n",
      "\n",
      "1. **Environment Setup:** Choose a suitable IDE for running Jupyter notebooks locally.\n",
      "2. **API Key Acquisition:** Get an API key from either openrouter.ai (for diverse models) or OpenAI (specifically for GPT models) and store it securely in a file named \"openrouter.key\".\n",
      "3. **Repository Cloning:** Clone the relevant repository to your local machine.\n",
      "4. **Notebook Execution:** Open the \"template.ipynb\" file within your preferred Jupyter environment and proceed to run the cells.\n",
      "5. **Alternative Execution (Optional):** The notebook cells can also be executed directly from the terminal if desired. \n",
      "\n",
      "This structure suggests the repository likely contains code examples or utilities for interacting with large language models, using the obtained API keys for authentication and access. \n",
      "\n"
     ]
    }
   ],
   "source": [
    "print(get_response_chat(\"Summarize file\", read_file(\"./HOWTO.md\")))"
   ]
  },
  {
   "cell_type": "code",
   "execution_count": 5,
   "id": "3067dc462ea23f61",
   "metadata": {
    "ExecuteTime": {
     "end_time": "2024-06-18T18:18:07.655027954Z",
     "start_time": "2024-06-18T18:17:10.845181821Z"
    },
    "collapsed": false
   },
   "outputs": [
    {
     "name": "stdout",
     "output_type": "stream",
     "text": [
      "```rell\n",
      "// Rell uses a custom syntax for hexadecimal byte array literals.\n",
      "val byte_array: byte_array = x\"0373599a61cc6b3bc02a78c34313e1737ae9cfd56b9bb24360b437d469efdf3b15\";\n",
      "\n",
      "// Rell uses the `@` symbol for database queries. It supports different cardinality operators.\n",
      "// @? for nullable single result\n",
      "val user: user? = user @? { .name == \"Alice\" };\n",
      "\n",
      "// @ for single result\n",
      "val company: company = company @ { .name == \"Chromia\" };\n",
      "\n",
      "// @* for list result\n",
      "val all_users: list<user> = user @* {};\n",
      "\n",
      "// @+ for non-empty list result\n",
      "val active_users: list<user> = user @+ { .status == \"active\" };\n",
      "\n",
      "// Rell supports 'mutable' fields for entities and structs that can be modified.\n",
      "entity product {\n",
      "    key id: integer;\n",
      "    mutable name: text;\n",
      "    mutable price: decimal;\n",
      "    mutable stock: integer;\n",
      "}\n",
      "\n",
      "// Rell uses the 'create' keyword to create new entity instances in the database.\n",
      "create product(id = 1, name = \"Awesome Product\", price = 9.99, stock = 100);\n",
      "\n",
      "// Rell uses the 'update' keyword to modify existing entity instances.\n",
      "update product @ { .id == 1 } (.price = 12.99, .stock -= 5);\n",
      "\n",
      "// Rell uses the 'delete' keyword for removing entity instances from the database.\n",
      "delete product @ { .id == 1 };\n",
      "\n",
      "// Rell provides built-in functions for working with timestamps and blockchain data.\n",
      "val now: timestamp = op_context.last_block_time;\n",
      "val blockchain_id: byte_array = chain_context.blockchain_rid;\n",
      "\n",
      "// Rell has a 'require' function for assertions and throwing exceptions.\n",
      "require(user != null, \"User not found!\");\n",
      "\n",
      "// Rell also supports custom operations and queries.\n",
      "operation transfer(sender: user, recipient: user, amount: decimal) {\n",
      "  // ...\n",
      "}\n",
      "\n",
      "query get_balance(user: user): decimal {\n",
      "  // ...\n",
      "}\n",
      "```\n",
      "\n",
      "**Explanation of the Constructs:**\n",
      "\n",
      "- **Hexadecimal Byte Array Literals:** The `x\"...\"` syntax allows developers to define byte arrays directly in hexadecimal format. This is commonly used for representing cryptographic keys, hashes, and other binary data.\n",
      "- **Database Query Operator:** The `@` symbol is a powerful operator for querying the database. Combined with cardinality operators (`@?`, `@`, `@*`, `@+`), it allows for precise retrieval of data based on conditions.\n",
      "- **Mutable Fields:** The `mutable` keyword enables fields within entities or structs to be modified. This is essential for updating data in the blockchain's state.\n",
      "- **Create, Update, and Delete Keywords:** These keywords simplify data manipulation within the database, providing intuitive commands for creating, modifying, and removing entity instances.\n",
      "- **Built-in Functions:** Rell offers built-in functions like `op_context.last_block_time` and `chain_context.blockchain_rid` for accessing blockchain-specific data, such as timestamps and blockchain IDs.\n",
      "- **Require Function:** The `require` function provides a concise way to perform assertions and throw exceptions if conditions are not met, ensuring code reliability.\n",
      "- **Custom Operations and Queries:** Developers can define custom operations (for modifying blockchain state) and queries (for retrieving data) to implement specific dapp logic.\n",
      "\n",
      "\n",
      "These constructs highlight some key differences between Rell and languages like Kotlin, particularly in its focus on relational data modeling, blockchain-specific features, and data immutability. These features make Rell a powerful language for building secure and scalable decentralized applications on the Chromia platform. \n"
     ]
    }
   ],
   "source": [
    "# Now this is heavy stuff - make sure you use a model which supports larger context!\n",
    "code = read_files(\"/home/alex/cw/ft3-lib\", [\".rell\"])\n",
    "docs = read_files(\"/home/alex/cw/chromia-docs/docs\", [\".md\"])\n",
    "print(get_response_chat(\"You're given source code in Rell and documentation. \"\n",
    "                     \"First, list Rell constructs which are different from languages such as Kotlin. \"\n",
    "                        \"Then create code examples which cover these constructs and add comments which explain them.\",\n",
    "                     docs + code))"
   ]
  },
  {
   "cell_type": "code",
   "execution_count": null,
   "id": "cae1a0109f8ad41e",
   "metadata": {
    "collapsed": false
   },
   "outputs": [],
   "source": []
  }
 ],
 "metadata": {
  "kernelspec": {
   "display_name": "Python 3 (ipykernel)",
   "language": "python",
   "name": "python3"
  },
  "language_info": {
   "codemirror_mode": {
    "name": "ipython",
    "version": 3
   },
   "file_extension": ".py",
   "mimetype": "text/x-python",
   "name": "python",
   "nbconvert_exporter": "python",
   "pygments_lexer": "ipython3",
   "version": "3.12.4"
  }
 },
 "nbformat": 4,
 "nbformat_minor": 5
}
